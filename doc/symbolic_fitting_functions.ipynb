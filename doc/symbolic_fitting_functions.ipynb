{
 "cells": [
  {
   "cell_type": "code",
   "execution_count": 1,
   "metadata": {},
   "outputs": [],
   "source": [
    "%matplotlib ipympl\n",
    "import numpy as np\n",
    "import sympy as S\n",
    "\n",
    "\n",
    "import matplotlib.pyplot as plt\n",
    "from mpl_toolkits.mplot3d import Axes3D\n",
    "from IPython.display import Image\n"
   ]
  },
  {
   "cell_type": "code",
   "execution_count": 2,
   "metadata": {},
   "outputs": [],
   "source": [
    "# variable names1\n",
    "x, y, z = S.symbols('x y z')\n",
    "y_1, Sig = S.symbols('y_1 Sig')\n",
    "x0,x1 = S.symbols('x_0 x_1')\n",
    "f = S.symbols('f')\n",
    "# function parameterts\n",
    "theta, phi, Phi, alpha, beta, gamma, delta = S.symbols('theta phi Phi alpha beta gamma delta')\n",
    "alpha1, beta1, gamma1, delta1 = S.symbols('alpha_1 beta_1 gamma_1 delta_1')\n"
   ]
  },
  {
   "cell_type": "code",
   "execution_count": 3,
   "metadata": {},
   "outputs": [
    {
     "data": {
      "text/latex": [
       "$\\displaystyle y$"
      ],
      "text/plain": [
       "y"
      ]
     },
     "execution_count": 3,
     "metadata": {},
     "output_type": "execute_result"
    }
   ],
   "source": [
    "y"
   ]
  },
  {
   "cell_type": "code",
   "execution_count": 4,
   "metadata": {},
   "outputs": [],
   "source": [
    "# Peak shape function\n",
    "\n",
    "def y(x):\n",
    "    return S.exp(-alpha*(x - x0))*(1+S.tanh(beta*(x - x0)))\n",
    "\n",
    "def y_1(x):\n",
    "    return S.exp(-alpha1*(x - x1))*(1+S.tanh(beta1*(x - x1)))\n",
    "\n",
    "def Sig(x):\n",
    "    return y(x) - f*y_1(x)"
   ]
  },
  {
   "cell_type": "code",
   "execution_count": 5,
   "metadata": {},
   "outputs": [
    {
     "data": {
      "text/latex": [
       "$\\displaystyle - f \\left(\\tanh{\\left(\\beta_{1} \\left(x - x_{1}\\right) \\right)} + 1\\right) e^{- \\alpha_{1} \\left(x - x_{1}\\right)} + \\left(\\tanh{\\left(\\beta \\left(x - x_{0}\\right) \\right)} + 1\\right) e^{- \\alpha \\left(x - x_{0}\\right)}$"
      ],
      "text/plain": [
       "-f*(tanh(beta_1*(x - x_1)) + 1)*exp(-alpha_1*(x - x_1)) + (tanh(beta*(x - x_0)) + 1)*exp(-alpha*(x - x_0))"
      ]
     },
     "execution_count": 5,
     "metadata": {},
     "output_type": "execute_result"
    }
   ],
   "source": [
    "Sig(x)"
   ]
  },
  {
   "cell_type": "code",
   "execution_count": 6,
   "metadata": {},
   "outputs": [
    {
     "data": {
      "text/latex": [
       "$\\displaystyle - \\alpha \\left(\\tanh{\\left(\\beta \\left(x - x_{0}\\right) \\right)} + 1\\right) e^{- \\alpha \\left(x - x_{0}\\right)} + \\alpha_{1} f \\left(\\tanh{\\left(\\beta_{1} \\left(x - x_{1}\\right) \\right)} + 1\\right) e^{- \\alpha_{1} \\left(x - x_{1}\\right)} + \\beta \\left(1 - \\tanh^{2}{\\left(\\beta \\left(x - x_{0}\\right) \\right)}\\right) e^{- \\alpha \\left(x - x_{0}\\right)} - \\beta_{1} f \\left(1 - \\tanh^{2}{\\left(\\beta_{1} \\left(x - x_{1}\\right) \\right)}\\right) e^{- \\alpha_{1} \\left(x - x_{1}\\right)}$"
      ],
      "text/plain": [
       "-alpha*(tanh(beta*(x - x_0)) + 1)*exp(-alpha*(x - x_0)) + alpha_1*f*(tanh(beta_1*(x - x_1)) + 1)*exp(-alpha_1*(x - x_1)) + beta*(1 - tanh(beta*(x - x_0))**2)*exp(-alpha*(x - x_0)) - beta_1*f*(1 - tanh(beta_1*(x - x_1))**2)*exp(-alpha_1*(x - x_1))"
      ]
     },
     "execution_count": 6,
     "metadata": {},
     "output_type": "execute_result"
    }
   ],
   "source": [
    "S.diff(Sig(x), x)"
   ]
  },
  {
   "cell_type": "code",
   "execution_count": 7,
   "metadata": {},
   "outputs": [],
   "source": [
    "dS = S.symbols('dS')"
   ]
  },
  {
   "cell_type": "code",
   "execution_count": 8,
   "metadata": {},
   "outputs": [],
   "source": [
    "def dS(x):\n",
    "    return S.diff(Sig(x), x)"
   ]
  },
  {
   "cell_type": "code",
   "execution_count": 9,
   "metadata": {},
   "outputs": [
    {
     "data": {
      "text/latex": [
       "$\\displaystyle - \\alpha \\left(\\tanh{\\left(\\beta \\left(x - x_{0}\\right) \\right)} + 1\\right) e^{- \\alpha \\left(x - x_{0}\\right)} + \\alpha_{1} f \\left(\\tanh{\\left(\\beta_{1} \\left(x - x_{1}\\right) \\right)} + 1\\right) e^{- \\alpha_{1} \\left(x - x_{1}\\right)} + \\beta \\left(1 - \\tanh^{2}{\\left(\\beta \\left(x - x_{0}\\right) \\right)}\\right) e^{- \\alpha \\left(x - x_{0}\\right)} - \\beta_{1} f \\left(1 - \\tanh^{2}{\\left(\\beta_{1} \\left(x - x_{1}\\right) \\right)}\\right) e^{- \\alpha_{1} \\left(x - x_{1}\\right)}$"
      ],
      "text/plain": [
       "-alpha*(tanh(beta*(x - x_0)) + 1)*exp(-alpha*(x - x_0)) + alpha_1*f*(tanh(beta_1*(x - x_1)) + 1)*exp(-alpha_1*(x - x_1)) + beta*(1 - tanh(beta*(x - x_0))**2)*exp(-alpha*(x - x_0)) - beta_1*f*(1 - tanh(beta_1*(x - x_1))**2)*exp(-alpha_1*(x - x_1))"
      ]
     },
     "execution_count": 9,
     "metadata": {},
     "output_type": "execute_result"
    }
   ],
   "source": [
    "dS(x)"
   ]
  },
  {
   "cell_type": "code",
   "execution_count": 10,
   "metadata": {},
   "outputs": [
    {
     "data": {
      "text/plain": [
       "'-alpha*(tanh(beta*(x - x_0)) + 1)*exp(-alpha*(x - x_0)) + alpha_1*f*(tanh(beta_1*(x - x_1)) + 1)*exp(-alpha_1*(x - x_1)) + beta*(1 - tanh(beta*(x - x_0))**2)*exp(-alpha*(x - x_0)) - beta_1*f*(1 - tanh(beta_1*(x - x_1))**2)*exp(-alpha_1*(x - x_1))'"
      ]
     },
     "execution_count": 10,
     "metadata": {},
     "output_type": "execute_result"
    }
   ],
   "source": [
    "# string representation\n",
    "str(dS(x))"
   ]
  },
  {
   "cell_type": "code",
   "execution_count": 11,
   "metadata": {},
   "outputs": [
    {
     "data": {
      "text/plain": [
       "<function sympy.core.evalf.N(x, n=15, **options)>"
      ]
     },
     "execution_count": 11,
     "metadata": {},
     "output_type": "execute_result"
    }
   ],
   "source": [
    "# evaluate numerical values\n"
   ]
  },
  {
   "cell_type": "code",
   "execution_count": 15,
   "metadata": {},
   "outputs": [
    {
     "data": {
      "text/latex": [
       "$\\displaystyle - f \\left(\\tanh{\\left(\\beta_{1} \\cdot \\left(2.0 - x_{1}\\right) \\right)} + 1.0\\right) e^{- \\alpha_{1} \\cdot \\left(2.0 - x_{1}\\right)} + \\left(\\tanh{\\left(\\beta \\left(2.0 - x_{0}\\right) \\right)} + 1.0\\right) e^{- \\alpha \\left(2.0 - x_{0}\\right)}$"
      ],
      "text/plain": [
       "-f*(tanh(beta_1*(2.0 - x_1)) + 1.0)*exp(-alpha_1*(2.0 - x_1)) + (tanh(beta*(2.0 - x_0)) + 1.0)*exp(-alpha*(2.0 - x_0))"
      ]
     },
     "execution_count": 15,
     "metadata": {},
     "output_type": "execute_result"
    }
   ],
   "source": [
    "S.N(Sig(2.))"
   ]
  },
  {
   "cell_type": "code",
   "execution_count": null,
   "metadata": {},
   "outputs": [],
   "source": []
  }
 ],
 "metadata": {
  "kernelspec": {
   "display_name": "Python 3 (ipykernel)",
   "language": "python",
   "name": "python3"
  },
  "language_info": {
   "codemirror_mode": {
    "name": "ipython",
    "version": 3
   },
   "file_extension": ".py",
   "mimetype": "text/x-python",
   "name": "python",
   "nbconvert_exporter": "python",
   "pygments_lexer": "ipython3",
   "version": "3.10.7"
  }
 },
 "nbformat": 4,
 "nbformat_minor": 4
}
